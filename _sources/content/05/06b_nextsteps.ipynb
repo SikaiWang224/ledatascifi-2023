{
 "cells": [
  {
   "cell_type": "markdown",
   "metadata": {},
   "source": [
    "# Faster, better, stronger\n",
    "\n",
    "Students often ask about how they can grow their skills after this semester. \n",
    "\n",
    "There is no one path forward, but I think people learn skills best when the skill-building is the byproduct of doing something fun/exciting that scratches your curiosity. \n",
    "\n",
    "Your projects don't have to be finance-related. (My initial python projects weren't!) Maybe it's about your love of some game (e.g. basketball), or tv/movies/books, or sports. Just pick something that sounds fun. \n",
    "\n",
    "- A fantasy draft wizard, powered by data scraped from multiple sites and organized by ML techniques. ([This repo, written in R, can be inspiration](https://github.com/jsoslow2/Fantasy-Football-Models).)\n",
    "- Build a dashboard (see below)\n",
    "- [Try to use one of the advanced finance packages here.](06c_finpacks)\n",
    "- [The website resources](../about/resources.html#resources-tutorials-and-data) has lots of good stuff to explore\n",
    "- I'd also recommend meandering the links on [this page, including \"fecon\"](https://github.com/jupyter/jupyter/wiki#economics-and-finance)"
   ]
  },
  {
   "cell_type": "markdown",
   "metadata": {},
   "source": [
    "## Dashboards - A Really Fun Project Idea\n",
    "\n",
    "```{tip}\n",
    "One awesome thing you can do with data: Build a dashboard/webpage!  \n",
    "\n",
    "Not only are dashboards cool as hell, they are also good ways to show off your skills (e.g. put them on your resume) because they can be really useful for real-world decision makers. \n",
    "```\n",
    "\n",
    "[How do you think this amazing page was built?](https://www.perthirtysix.com/essay/nba-player-scoring-analysis) Or the interactive visualizations [538, NYT, WaPo, WSJ and others frequently publish](https://fivethirtyeight.com/features/science-isnt-broken/)? And look at all [these freaking awesome examples!](https://dash.gallery/Portal/)  \n",
    "\n",
    "What do you need? Mostly: _Data acquisition and formatting skills - which you have!_ \n",
    "\n",
    "Currently, I recommend one of two approaches to build a (free) website with an interactive component:\n",
    "1. Use `plotly`/`dash` to build the dashboard so it works on your computer. Then, you need to \"deploy\" it so that it is a website people can visit and interact with. (There are several ways to deploy the app, but \"heroku\" is the most popular right now. [A written walkthrough](https://realpython.com/python-dash/#deploy-your-dash-application-to-heroku) to build [this page](https://avocado-analytics.herokuapp.com/). And a [good video](https://www.youtube.com/watch?v=Gv910_b5ID0) showing different approaches based on the data needs of your site.)\n",
    "1. [Use `shiny` to build and serve the dashboard.](https://shiny.rstudio.com/py/) The \"serving\" part is easier with `shiny`, but because the package is still in development, things might change. \n",
    "\n",
    "If you ever build one, PLEASE send it to me!\n",
    "\n",
    "```{important}\n",
    "**Coming soon: **\n",
    "```\n",
    "  "
   ]
  }
 ],
 "metadata": {
  "kernelspec": {
   "display_name": "Python 3 (ipykernel)",
   "language": "python",
   "name": "python3"
  },
  "language_info": {
   "codemirror_mode": {
    "name": "ipython",
    "version": 3
   },
   "file_extension": ".py",
   "mimetype": "text/x-python",
   "name": "python",
   "nbconvert_exporter": "python",
   "pygments_lexer": "ipython3",
   "version": "3.8.13"
  }
 },
 "nbformat": 4,
 "nbformat_minor": 4
}
