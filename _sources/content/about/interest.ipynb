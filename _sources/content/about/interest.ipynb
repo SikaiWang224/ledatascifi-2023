{
 "cells": [
  {
   "cell_type": "markdown",
   "id": "bf56f79f-c794-456e-a327-d928b5e81b13",
   "metadata": {
    "tags": []
   },
   "source": [
    "# Interested but unsure?\n",
    "\n",
    "```{tip} \n",
    "If you have any questions during the enrollment period, please reach out to me via [email](https://bowen.finance/). I'm happy to help you assess your fit for the class, or provide pointers to get through the \"bootcamp\" below.\n",
    "```\n",
    "\n",
    "This class is essentially an applied Python course, because mastering it opens a lot of possibilities (see [here](../01/01_Motivation), [here](hall_of_awesomeness), [here](objectives), and [here](outcomes)).\n",
    "\n",
    "To encourage access, this class was set up without a coding pre-req. **However, there is no avoiding the reality that programming is a skill you can only learn by doing. If you have not coded before, you will have a steeper curve at the beginning of the class.**\n",
    "\n",
    "You should know:\n",
    "1. Every year, [students with little or no coding background succeed in this class.](outcomes) \n",
    "1. **You will have tremendous support because we want to see you succeed!** \n",
    "    - The class is designed to be accessible (with focus on achievable on-ramps to applied problems, no CompSci theory)\n",
    "    - I invest in you: There is a TA, and we probably offer more office hours in the initial weeks of the semester than any class you have ever taken\n",
    "1. The [pre-class bootcamp below](#Pre-Class-Bootcamp-(New-in-2023!)) is meant to level the playing field. \n",
    "    - Very quickly you'll have code running, which is exciting! \n",
    "    - Any work you do before the semester will make the class easier. (High ROI.)\n",
    "    - Suggested time investment: 10-20 hours will put you in **great** shape for the class. \n",
    "        - Even just 5 hours will be helpful. \n",
    "        - More will set you on a path to the [Hall of Awesomeness](hall_of_awesomeness).\n"
   ]
  },
  {
   "cell_type": "markdown",
   "id": "06715383-5596-4520-a081-156b3acf6517",
   "metadata": {
    "tags": []
   },
   "source": [
    "## Pre-Class Bootcamp (New in 2023!)\n",
    "\n",
    "The class writes `python` _code_, and the _application_ we use is called JupyterLab. Getting everything going on your computer is quick. \n",
    "\n",
    "1. Install python and JupyterLab by following steps 2 and 3 [on the setup page of the textbook.](../01/02_Setup)  (_Some links on this page aren't active until the semester is about to begin._)\n",
    "1. Write and run your first python code in JupyterLab: [Watch and repeat the steps from 3:52 to 5:50 in the video on the setup page.](https://youtu.be/zKqkLEMmwBw?t=232)\n",
    "1. Get a little more familiar with JupyterLab:\n",
    "    - [Watch this short video from 1:51 on.](https://youtu.be/A5YyoCKxEOU?t=111) Try to repeat everything you see in that video in JupyterLab in the file you created in the last step.\n",
    "    - [Read section 1.6.1 of the textbook.](../01/05_jupyterlab) \n",
    "    - _Optional: The keyboard shortcuts in 1.6.3 make using JupyterLab much easier and quicker once learned. Try to incorporate using them as you learn python._\n",
    "1. Learn about and write some python code. Pick one of the courses below. Time spent watching the videos, _duplicating their code in your JupyterLab and running it_, and trying problems has a high ROI. "
   ]
  },
  {
   "cell_type": "markdown",
   "id": "37285272-a530-4a30-93b1-04e3e3a2b310",
   "metadata": {
    "tags": []
   },
   "source": [
    "## Free python classes\n",
    "\n",
    "```{note}\n",
    "Neither class below uses JupyterLab, but all the code they write can be written in JupyterLab. Try to do that!\n",
    "- After you write code in JupyterLab, to execute/run it: Hit the play button at the top, or use the shortcut: <kbd> ctrl </kbd>+ <kbd> enter</kbd> (on Mac: &#8984; + <kbd> enter</kbd>)\n",
    "- To add a new block/section of code so you can try to work on a new problem: Hit the plus button at the top, or use the shortcut: <kbd> ESC </kbd> then <kbd> B </kbd>. \n",
    "- For tips on using JupyterLab, [revisit this short video.](https://youtu.be/A5YyoCKxEOU?t=111)\n",
    "- If you get stuck, just make a new JupyterLab notebook file to start fresh. Don't be afraid to create a lot of messy files at this point. \n",
    "- It's okay if you can't solve every problem while you're working on these on your own.\n",
    "```\n",
    "\n"
   ]
  },
  {
   "cell_type": "markdown",
   "id": "884d070e-d331-49e1-beb9-cc86e84833e2",
   "metadata": {
    "tags": []
   },
   "source": [
    "Pick one of these. Either will do! (Sadly, I can't help you choose; I have received N=1 recommendation for each. Flip a coin?) \n",
    "\n",
    "Both cover the essentials and will leave you more than ready to take this class. If you cover _all_ of the suggested material for one class, you'll be in **great** shape. If you only cover some of the below, you _might_ still be fine: Every semester, about 30% students begin with zero python experience. A few drop, a few excel, and the rest make it work. \n",
    "\n",
    "```{tabbed} Python for Everyone (py4e.org)\n",
    "\n",
    "People like this because it's free, has 1-3 ten minute videos per topic, and also has where you see the instructor work through exercises. \n",
    "\n",
    "[Start here.](https://www.py4e.com/lessons)\n",
    "\n",
    "- Cover topics \n",
    "    - 3 (variables) \n",
    "    - 4 (conditional expression)\n",
    "    - 5 (functions)\n",
    "    - 6 (loops) \n",
    "    - 9 (lists)\n",
    "- For each chapter,\n",
    "    - Watch the videos and try to type code from the videos and run it in Jupyterlab. The more the better!\n",
    "    - Click on the \"references\" link for each chapter. The bottom of each has a few exercises to try. Try them in a JupyterLab file. \n",
    "    - If you click login, you can take the quizzes and do one question per chapter\n",
    "- Optional: Chapter 7 (strings)\n",
    "```\n",
    "\n",
    "```{tabbed} CS50p (Harvard)\n",
    "\n",
    "[Start here.](https://cs50.harvard.edu/python/2022/)\n",
    "\n",
    "- Cover topics \n",
    "    - 0 (functions, variables, and more)\n",
    "    - 1 (conditionals)\n",
    "    - 2 (loops, lists, dictionaries)\n",
    "- For each chapter,\n",
    "    - Watch the videos and try to type code from the videos and run it in Jupyterlab. The more the better!\n",
    "    - \"Notes\" for each chapter is a concise doc contain _some_ of what is in the video.    \n",
    "    - Each chapter has several problems. Try to solve them!\n",
    "- How to start the first problem set: [This is the page for the first problem set.](https://cs50.harvard.edu/python/2022/psets/0/) Skip all of the steps and just click on the first problem, [\"Indoor Voice\"](https://cs50.harvard.edu/python/2022/psets/0/indoor/).\n",
    "    - Read the prompt (first section at the top)\n",
    "    - Since you'll do the problem in JupyterLab, ignore the \"before you begin\" stuff\n",
    "    - Go look at the demo. That is what should happen in JupyterLab if you do it right: You'll run the code you make, it will open a prompt, you'll type \"HELLO, WORLD\", and then it will print \"hello, world\"\n",
    "    - Work until your code achieves that\n",
    "    - Similarly for subsequent problems\n",
    "\n",
    "```\n",
    "\n"
   ]
  },
  {
   "cell_type": "markdown",
   "id": "9a3a0cb0-0244-4081-8e55-27f4e02e0a19",
   "metadata": {},
   "source": [
    "```{admonition} A request from me to you\n",
    ":class: tip\n",
    "If you did the bootcamp above, I'd love to hear from you. Which class did you try? Did you like it? How much time did you spend and what did you cover?\n",
    "```"
   ]
  }
 ],
 "metadata": {
  "kernelspec": {
   "display_name": "Python 3 (ipykernel)",
   "language": "python",
   "name": "python3"
  },
  "language_info": {
   "codemirror_mode": {
    "name": "ipython",
    "version": 3
   },
   "file_extension": ".py",
   "mimetype": "text/x-python",
   "name": "python",
   "nbconvert_exporter": "python",
   "pygments_lexer": "ipython3",
   "version": "3.8.12"
  }
 },
 "nbformat": 4,
 "nbformat_minor": 5
}
