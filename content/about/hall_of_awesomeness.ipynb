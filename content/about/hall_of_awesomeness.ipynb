{
 "cells": [
  {
   "cell_type": "markdown",
   "id": "9204833a-6874-4b8e-a1dd-30b92759528d",
   "metadata": {},
   "source": [
    "# The Hall of Awesomeness\n",
    "\n",
    "Under construction."
   ]
  }
 ],
 "metadata": {
  "kernelspec": {
   "display_name": "Python 3 (ipykernel)",
   "language": "python",
   "name": "python3"
  },
  "language_info": {
   "codemirror_mode": {
    "name": "ipython",
    "version": 3
   },
   "file_extension": ".py",
   "mimetype": "text/x-python",
   "name": "python",
   "nbconvert_exporter": "python",
   "pygments_lexer": "ipython3",
   "version": "3.8.12"
  }
 },
 "nbformat": 4,
 "nbformat_minor": 5
}
