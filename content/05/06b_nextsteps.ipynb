{
 "cells": [
  {
   "cell_type": "markdown",
   "metadata": {},
   "source": [
    "# Faster, better, stronger\n",
    "\n",
    "Students often ask about how they can grow their skills after this semester. \n",
    "\n",
    "There is no one path forward, but I think people learn skills best when the skill-building is the byproduct of doing something fun/exciting that scratches your curiosity. \n",
    "\n",
    "Your projects don't have to be finance-related. (My initial python projects weren't!) Maybe it's about your love of some game (e.g. basketball), or tv/movies/books, or sports. Just pick something that sounds fun. \n",
    "\n",
    "- A fantasy draft wizard, powered by data scraped from multiple sites and organized by ML techniques. ([This repo, written in R, can be inspiration](https://github.com/jsoslow2/Fantasy-Football-Models).)\n",
    "- Build a dashboard (see below)\n",
    "- [Try to use one of the advanced finance packages here.](05c_finpacks)\n",
    "- [The website resources](../about/resources.html#resources-tutorials-and-data) has lots of good stuff to explore\n",
    "- I'd also recommend meandering the links on [this page, including \"fecon\"](https://github.com/jupyter/jupyter/wiki#economics-and-finance)"
   ]
  },
  {
   "cell_type": "markdown",
   "metadata": {},
   "source": [
    "<p style=\"font-size:2em\"> Dashboards - A Really Fun Project Idea </p> \n",
    "\n",
    "```{tip}\n",
    "One awesome thing you can do with data: Build a dashboard/\"app\"/webpage!  \n",
    "\n",
    "Not only are dashboards cool as hell, they are also good ways to show off your skills (e.g. put them on your resume) because they can be really useful for real-world decision makers in business and government settings. \n",
    "```\n",
    "\n",
    "[How do you think this amazing page was built?](https://www.perthirtysix.com/essay/nba-player-scoring-analysis) Or the interactive visualizations [538, NYT, WaPo, WSJ and others frequently publish](https://fivethirtyeight.com/features/science-isnt-broken/)? And look at all [these freaking awesome examples!](https://dash.gallery/Portal/)  \n",
    "\n",
    "What do you need? Mostly: _Data acquisition and formatting skills - which you have!_ \n",
    "\n",
    "The main hiccup:  GitHub Pages can create a website out of a Jupyter notebook, but it's just a static image of the file after you ran the code. People looking at the site can't adjust inputs and rerun it.\n",
    "\n",
    "I am not a web dev, and you probably aren't either, so let's just list options that _reduce_ the pain of building a website. \n",
    "\n",
    "Currently (late 2022), here is the approach I suggest to build a (free) website with a interactive components:\n",
    "\n",
    "```{note}\n",
    "To make your website faster, you want it to load the smallest dataset possible and do as little data processing as required. This means you do all the preprocessing steps (everything _right up until user input is needed_) in a separate file that saves this as a dataset. Then, your app can start by loading this and continuing. \n",
    "```\n",
    "\n",
    "1. Build your dashboard/app so it works on your computer. The current favorites:\n",
    "    - Pick one of these packages to build a dashboard or app:  `streamlit`, `dash`, `gradio`, or `shiny`\n",
    "        - Which? Dash and bokeh are the legacy leaders of these, but streamlit seems easiest to deploy. But check to see if anyone has made an app/dashboard like what you want in that package. (Meaning: Layout, similar element types, interactivity.) Then emulate the code for that and tweak it to your needs. \n",
    "        - [`streamlit`](https://streamlit.io/) - see some [examples here](https://streamlit.io/gallery). Deploying the app to a website is easy as heck and free as long as traffic to the site is low.\n",
    "        - [`shiny` ](https://shiny.rstudio.com/py/) - deployment is easy, but because the package is still in development, things might change. \n",
    "        - _Hack: These packages will be new to you, so ask ChatGPT to help you set up the dashboard!_\n",
    "    - Or: Write a Jupyter notebook file, and assume that the file itself is what you want shown on the website. \n",
    "        - Note this will make it harder to have control over final website formatting.\n",
    "1. Now,  you need to \"deploy\" it so that it is a website people can visit and interact with. Depends on how you built your app, but the best free options **as of late 2022** are:\n",
    "    - If `shiny`: shiny handles it!\n",
    "    - If `streamlit`: Can use streamlit's hosting (easy, and free as long as traffic to the site is low)\n",
    "    - If `streamlit` or `gradio`: You can upload the app to huggingface.co (probably better performance than streamlit's free service) and then you can also embed it in a simple GitHub page, which you can format to your liking! Easier than it sounds, see the [walkthrough here](https://www.youtube.com/watch?v=F4tvM4Vb3A0).\n",
    "    - If a jupyter notebook, free options include:\n",
    "        - [PythonAnywhere](https://www.pythonanywhere.com/) \n",
    "        - [binder](https://mybinder.org/) will make the notebook an interactive file anyone on the web can use. \n",
    "        - Use any packages and plotting choices you want, and then the \"Mercury\" framework will create the webpage for you. You still need to deploy it somehow. [Good walkthrough here.](https://mljar.com/blog/dashboard-python-jupyter-notebook/?utm_content=219440384&utm_medium=social&utm_source=twitter&hss_channel=tw-1318985240)\n",
    "    - If dash:[^hero] \n",
    "        - [render.com](render.com) (see [this](https://community.plotly.com/t/render-com-super-easy-deploy-dashboard/69146) and [this](https://community.plotly.com/t/migrating-from-heroku-how-to-use-render-to-deploy-a-python-dash-app-solution/68048)) \n",
    "        - [PythonAnywhere](https://www.pythonanywhere.com/) (see [here](https://help.pythonanywhere.com/pages/DashWSGIConfig/))\n",
    "        - [fly.io](fly.io) and [Vercel](Vercel.com) seem good too     \n",
    "\n",
    "\n",
    "[^hero]: My previous suggestion was Heroku, but it is not completely free anymore. (It offers [a free plan for students for 12 months.](https://blog.heroku.com/github-student-developer-program)) [A written walkthrough](https://realpython.com/python-dash/#deploy-your-dash-application-to-heroku) to build [this page](https://avocado-analytics.herokuapp.com/). And a [good video](https://www.youtube.com/watch?v=Gv910_b5ID0) showing different approaches based on the data needs of your site.\n",
    "\n",
    "\n",
    "\n",
    "**If you ever build one, PLEASE send it to me!**"
   ]
  }
 ],
 "metadata": {
  "kernelspec": {
   "display_name": "Python 3 (ipykernel)",
   "language": "python",
   "name": "python3"
  },
  "language_info": {
   "codemirror_mode": {
    "name": "ipython",
    "version": 3
   },
   "file_extension": ".py",
   "mimetype": "text/x-python",
   "name": "python",
   "nbconvert_exporter": "python",
   "pygments_lexer": "ipython3",
   "version": "3.8.13"
  }
 },
 "nbformat": 4,
 "nbformat_minor": 4
}
