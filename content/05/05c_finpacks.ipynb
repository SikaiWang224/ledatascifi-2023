{
 "cells": [
  {
   "cell_type": "markdown",
   "metadata": {},
   "source": [
    "# Supercharged resources\n",
    "\n",
    "A compendium of great packages you can use, now that you have the skills needed to access the info below.\n",
    "\n",
    "Please suggest others if you see something cool!\n"
   ]
  },
  {
   "cell_type": "markdown",
   "metadata": {},
   "source": [
    "Package | Description | Where\n",
    "--- | --- | ---\n",
    "OpenBloomberg | 85% of a Bloomberg terminal for free | https://github.com/OpenBB-finance/OpenBBTerminal \n",
    "auto-sklearn |  Automated Machine Learning with scikit-learn  | https://github.com/automl/auto-sklearn\n",
    "Open Source Asset Pricing | Data for asset pricing tests and code to replicate or use. If you are interested in asset pricing or trading, this is a MUST visit. It's so cool that this is freely available, it blows my mind.  | https://www.openassetpricing.com/data/\n",
    "PyQL | QuantLib's Python port. | https://github.com/enthought/pyql\n",
    "QuantPy | A framework for quantitative finance In python. | https://github.com/jsmidt/QuantPy\n",
    "vollib | Calculating option prices, implied volatility, and greeks | https://github.com/vollib/vollib\n",
    "Finance-Python | Python tools for Finance | https://github.com/alpha-miner/Finance-Python\n",
    "ffn | A financial function library for Python. | https://github.com/pmorissette/ffn\n",
    "pynance | Lightweight Python library for assembling and analysing financial data. | https://github.com/GriffinAustin/pynance\n",
    "pysabr | SABR model Python implementation. | https://github.com/ynouri/pysabr\n",
    "FinancePy | Focuses on the pricing and risk-management of Financial Derivatives, including fixed-income, equity, FX and credit derivatives. | https://github.com/domokane/FinancePy\n",
    "gs-quant | Goldman-Sachs toolkit for quantitative finance | https://github.com/goldmansachs/gs-quant\n",
    "willowtree | Willow tree lattice for derivatives pricing. | https://github.com/federicomariamassari/willowtree\n",
    "financial-engineering | Applications of Monte Carlo methods to financial engineering projects | https://github.com/federicomariamassari/financial-engineering\n",
    " optlib | A library for financial options pricing written in Python. | https://github.com/dbrojas/optlib\n",
    "tf-quant-finance | High-performance TensorFlow library for quantitative finance. | https://github.com/google/tf-quant-finance\n",
    "Q-Fin | A Python library for mathematical finance. | https://github.com/RomanMichaelPaolucci/Q-Fin\n",
    "Quantsbin | Tools for pricing and plotting of vanilla option prices, greeks, and various other analysis around them. | https://github.com/quantsbin/Quantsbin\n",
    "finoptions | Complete python implementation of R package fOptions with partial implementation of fExoticOptions for pricing various options. | https://github.com/bbcho/finoptions-dev"
   ]
  },
  {
   "cell_type": "code",
   "execution_count": 1,
   "metadata": {
    "tags": [
     "remove_input"
    ]
   },
   "outputs": [
    {
     "data": {
      "text/html": [
       "<blockquote class=\"twitter-tweet\"><p lang=\"en\" dir=\"ltr\">A Bloomberg subscription costs $24,000 per year.<br><br>But you can get nearly 85% of its features for free.<br><br>It&#39;s through an app called Open Bloomberg (aka OpenBB)<br><br>Here&#39;s how:<br><br>🧵</p>&mdash; Shravan Venkataraman 🔥🚀💰 (@theBuoyantMan) <a href=\"https://twitter.com/theBuoyantMan/status/1558792415263088641?ref_src=twsrc%5Etfw\">August 14, 2022</a></blockquote>\n",
       "<script async src=\"https://platform.twitter.com/widgets.js\" charset=\"utf-8\"></script>\n"
      ],
      "text/plain": [
       "<__main__.Tweet at 0x26aab845ca0>"
      ]
     },
     "execution_count": 1,
     "metadata": {},
     "output_type": "execute_result"
    }
   ],
   "source": [
    "import requests\n",
    "\n",
    "class Tweet(object):\n",
    "    def __init__(self, s, embed_str=False):\n",
    "        if not embed_str:\n",
    "            # Use Twitter's oEmbed API\n",
    "            # https://dev.twitter.com/web/embedded-tweets\n",
    "            api = 'https://publish.twitter.com/oembed?url={}'.format(s)\n",
    "            response = requests.get(api)\n",
    "            self.text = response.json()[\"html\"]\n",
    "        else:\n",
    "            self.text = s\n",
    "\n",
    "    def _repr_html_(self):\n",
    "        return self.text\n",
    "\n",
    "Tweet(\"https://twitter.com/thebuoyantman/status/1558792415263088641?s=27&t=BgGJLwO4zpRdwJkH90T5QA\")"
   ]
  }
 ],
 "metadata": {
  "kernelspec": {
   "display_name": "Python 3 (ipykernel)",
   "language": "python",
   "name": "python3"
  },
  "language_info": {
   "codemirror_mode": {
    "name": "ipython",
    "version": 3
   },
   "file_extension": ".py",
   "mimetype": "text/x-python",
   "name": "python",
   "nbconvert_exporter": "python",
   "pygments_lexer": "ipython3",
   "version": "3.8.13"
  }
 },
 "nbformat": 4,
 "nbformat_minor": 4
}
