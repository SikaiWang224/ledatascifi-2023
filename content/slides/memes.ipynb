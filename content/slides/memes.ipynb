{
 "cells": [
  {
   "cell_type": "markdown",
   "id": "4a4c7a70-a840-491b-b47e-9cec60133ecd",
   "metadata": {},
   "source": [
    "# Memes\n",
    "\n",
    "An unordered and living collection of things about this class.\n",
    "\n",
    "```{admonition} Add to this page!\n",
    ":class: tip\n",
    "\n",
    "If you see a joke you like, send it to me by email or via issue (click the GitHub logo above and then \"Open Issue\").\n",
    "```\n",
    "\n",
    "```{image} ./img/correl.png\n",
    ":alt: correlation\n",
    ":align: center\n",
    "```"
   ]
  }
 ],
 "metadata": {
  "kernelspec": {
   "display_name": "Python 3 (ipykernel)",
   "language": "python",
   "name": "python3"
  },
  "language_info": {
   "codemirror_mode": {
    "name": "ipython",
    "version": 3
   },
   "file_extension": ".py",
   "mimetype": "text/x-python",
   "name": "python",
   "nbconvert_exporter": "python",
   "pygments_lexer": "ipython3",
   "version": "3.8.12"
  }
 },
 "nbformat": 4,
 "nbformat_minor": 5
}
